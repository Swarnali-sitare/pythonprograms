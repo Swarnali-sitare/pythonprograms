{
 "cells": [
  {
   "cell_type": "markdown",
   "metadata": {},
   "source": [
    "Problem_1: Given two numbers a and b. Find the value of a/b"
   ]
  },
  {
   "cell_type": "code",
   "execution_count": 8,
   "metadata": {},
   "outputs": [
    {
     "name": "stdout",
     "output_type": "stream",
     "text": [
      "a/b is: 1.4\n"
     ]
    }
   ],
   "source": [
    "a=float(input(\"enter a number\")) #enter the value of a\n",
    "b=float(input(\"enter a number\")) #enter the value of  b\n",
    "if b!=0: #calculation if b is not equal to zero\n",
    "    print(\"a/b is:\",a/b)\n",
    "else: #calculation if b is equal to zero\n",
    "    print(\"Not Defined\")"
   ]
  },
  {
   "cell_type": "markdown",
   "metadata": {},
   "source": [
    "Problem_2: Given a point in 2D space, find the quadrant in which it lies"
   ]
  },
  {
   "cell_type": "code",
   "execution_count": 2,
   "metadata": {},
   "outputs": [
    {
     "name": "stdout",
     "output_type": "stream",
     "text": [
      "X-coordinate is: -34.0\n",
      "Y-coordinate is: 45.0\n",
      "Your point is in the SECOND quadrant\n"
     ]
    }
   ],
   "source": [
    "#In a 2D space we have x-coordinate and y-coordinate to represent a point\n",
    "X=float(input(\"enter the X-coordinate\"))\n",
    "print (\"X-coordinate is:\",X)\n",
    "Y=float(input(\"enter Y-coordinate\"))\n",
    "print(\"Y-coordinate is:\",Y)\n",
    "if X==0: #if x coordinate is 0\n",
    "    if Y>0: #if y coordinate is positive\n",
    "        print(\"Your point is on the positive Y-axis\")\n",
    "    elif Y<0:  #if y coordinate is negative\n",
    "        print(\"Your point is on the negative Y-axis\")\n",
    "    else: #if the y coordinate is 0\n",
    "        print(\"Your point is on the Origin\")\n",
    "elif X>0: #if the x coordinate is positive\n",
    "    if Y==0: #if the y coordinate is 0\n",
    "        print(\"Your point is on the positive X-axis\")\n",
    "    if Y>0: #if the y coordinate is positive\n",
    "        print(\"Your point is in the FIRST quadrant\")\n",
    "    else: #if the y coordinate is negative\n",
    "        print(\"Your point is in the FOURTH quadrant\")\n",
    "else: #if the x coordinate is negative\n",
    "    if Y==0: #if the y coordinate is 0\n",
    "        print(\"Your point is on the negative X-axis\")\n",
    "    if Y>0: #if y coordinate is positive \n",
    "        print(\"Your point is in the SECOND quadrant\")\n",
    "    else: #if the y coordinate is negative\n",
    "        print(\"Your point is in the THIRD quadrant\")"
   ]
  },
  {
   "cell_type": "markdown",
   "metadata": {},
   "source": [
    "Problem_3: Given two points in 2D space, find the slope and y-intercept of the line joining them"
   ]
  },
  {
   "cell_type": "code",
   "execution_count": 2,
   "metadata": {},
   "outputs": [
    {
     "name": "stdout",
     "output_type": "stream",
     "text": [
      "The first point is: ( 4.0 , 9.0 )\n",
      "The second point is: ( 0.0 , 7.0 )\n",
      "Your slope is: 0.5\n",
      "The y-intercept of the line is 7.0\n"
     ]
    }
   ],
   "source": [
    "#In a 2D space we have x-coordinate and y-coordinate to represent a point\n",
    "a1=float(input(\"enter X-coordinate of the first point\"))\n",
    "b1=float(input(\"enter Y-coordinate of the first point\"))\n",
    "print(\"The first point is:\",\"(\",a1,\",\",b1,\")\")\n",
    "a2=float(input(\"enter X-coordinate of the second point\"))\n",
    "b2=float(input(\"enter Y-coordinate of the second point\"))\n",
    "print(\"The second point is:\",\"(\",a2,\",\",b2,\")\")\n",
    "A=(a2-a1)\n",
    "B=(b2-b1) \n",
    "if A!=0:\n",
    "    M=B/A #calculating the slope of the line\n",
    "    print(\"Your slope is:\",M)\n",
    "    c=b1-(M*a1) #calculating the y-intercept of the line\n",
    "    print(\"The y-intercept of the line is\",c)\n",
    "else:\n",
    "    print(\"slope is infinite\")\n",
    "    print(\"y-intercept is not defined\")"
   ]
  },
  {
   "cell_type": "markdown",
   "metadata": {},
   "source": [
    "Problem_4: Given a temperature in Fahrenheit, convert it to Celsius. If the temperature is below 10 degree celcius, output cold between 10 and 25, output pleasant, between 25 and 35, output warm, and above 35 output hot"
   ]
  },
  {
   "cell_type": "code",
   "execution_count": 1,
   "metadata": {},
   "outputs": [
    {
     "name": "stdout",
     "output_type": "stream",
     "text": [
      "The temperature in fahrenhiet: 90.0\n",
      "The temperature in celsius is: 32.22222222222222\n",
      "The temperature is warm\n"
     ]
    }
   ],
   "source": [
    "temp=float(input(\"enter temperature in fahrenhiet\"))\n",
    "print(\"The temperature in fahrenhiet:\",temp)\n",
    "cel=(5*(temp-32))/9 #conversion of fahrenhiet to celsius\n",
    "print(\"The temperature in celsius is:\",cel)\n",
    "if cel<10: #if temperature in celcius is less than 10 degrees, then it is considered to be cold\n",
    "    print(\"The temparature is cold\")\n",
    "elif cel<25: #if temperature in celcius is in between 10 to 25 degrees, then it is considered to be pleasant\n",
    "    print(\"The temperature is pleasant\")\n",
    "elif cel<35: #if temperature in celcius is in between 25 to 35 degrees, then it is considered to be warm\n",
    "    print(\"The temperature is warm\")\n",
    "else: #if temperature in celcius is more than 35 degrees, then it is considered to be hot\n",
    "    print(\"The temperature is hot\")"
   ]
  },
  {
   "cell_type": "markdown",
   "metadata": {},
   "source": [
    "Problem5: Given a quadratic equation with coefficient a, b, c. Find the two solutions (may be real or complex)."
   ]
  },
  {
   "cell_type": "code",
   "execution_count": 10,
   "metadata": {},
   "outputs": [
    {
     "name": "stdout",
     "output_type": "stream",
     "text": [
      "The quadratic equation is: 5 x**2+ 8 x+ 12\n",
      "The solutions are imaginary and are: -0.8 + 8.8 j and -0.8 - 8.8 j\n"
     ]
    }
   ],
   "source": [
    "#A quadratic equation is represented as a(x)^2+bx+c, where a, b, c are the real coefficients\n",
    "a=int(input(\"enter the coeff. of x**2\")) \n",
    "b=int(input(\"enter the coeff. of x**1\"))\n",
    "c=int(input(\"enter the coeff. of x**0\"))\n",
    "print(\"The quadratic equation is:\",a,\"x**2+\",b,\"x+\",c)\n",
    "dis=(b**2-4*a*c) #calculating the discriminant of the quadratic equation\n",
    "if dis>0:\n",
    "    sol1=((-1*b)+(dis)**1/2)/(2*a)\n",
    "    sol2=((-1*b)-(dis)**1/2)/(2*a)\n",
    "    print(\"The solutions of the quadratic equation are real and distinct, and they are,\",sol1,\"and\",sol2)\n",
    "else:\n",
    "    re=(-1*b)/(2*a) #the real part of the solution\n",
    "    img=((-1*dis)**1/2)/(2*a) #the imaginary part of the solution\n",
    "    print(\"The solutions are imaginary and are:\",re,\"+\",img,\"j\",\"and\",re,\"-\",img,\"j\")"
   ]
  },
  {
   "cell_type": "markdown",
   "metadata": {},
   "source": [
    "Problem6: Given three points, find out whether they lie on the same straight line"
   ]
  },
  {
   "cell_type": "code",
   "execution_count": 6,
   "metadata": {},
   "outputs": [
    {
     "name": "stdout",
     "output_type": "stream",
     "text": [
      "The first point is: ( 5.0 , 7.0 )\n",
      "The second point is: ( -5.0 , -1.0 )\n",
      "The third point is: ( 0.0 , -9.0 )\n",
      "The three points are not collinear,i.e., donot lie on the same straight line\n"
     ]
    }
   ],
   "source": [
    "x1=float(input(\"enter X-coordinate of the first point\"))\n",
    "y1=float(input(\"enter Y-coordinate of the first point\"))\n",
    "print(\"The first point is:\",\"(\",x1,\",\",y1,\")\")\n",
    "x2=float(input(\"enter X-coordinate of the second point\"))\n",
    "y2=float(input(\"enter Y-coordinate of the second point\"))\n",
    "print(\"The second point is:\",\"(\",x2,\",\",y2,\")\")\n",
    "x3=float(input(\"enter X-coordinate of the third point\"))\n",
    "y3=float(input(\"enter Y-coordinate of the third point\"))\n",
    "print(\"The third point is:\",\"(\",x3,\",\",y3,\")\")\n",
    "Y=(y2-y1)\n",
    "X=(x2-x1) \n",
    "if X!=0:\n",
    "    m=Y/X #calculating slope of the line using two of the points\n",
    "    if (x3-x1)!=0:\n",
    "        if ((y3-y1)/(x3-x1))==m: #checking whether the slope calculated using the third point with another point is equal to the slope calculated using rest of the two points \n",
    "            print(\"The three points are collinear,i.e., lie on the same straight line\")\n",
    "    else:\n",
    "        print(\"The three points are not collinear,i.e., donot lie on the same straight line\")\n",
    "else:\n",
    "    if x3==x2:\n",
    "        print(\"The three points are collinear,i.e., lie on the same straight line\")\n",
    "    else:\n",
    "        print(\"The three points are not collinear,i.e., donot lie on the same straight line\")\n",
    "\n"
   ]
  }
 ],
 "metadata": {
  "kernelspec": {
   "display_name": "Python 3",
   "language": "python",
   "name": "python3"
  },
  "language_info": {
   "codemirror_mode": {
    "name": "ipython",
    "version": 3
   },
   "file_extension": ".py",
   "mimetype": "text/x-python",
   "name": "python",
   "nbconvert_exporter": "python",
   "pygments_lexer": "ipython3",
   "version": "3.11.4"
  },
  "orig_nbformat": 4
 },
 "nbformat": 4,
 "nbformat_minor": 2
}
