{
 "cells": [
  {
   "cell_type": "markdown",
   "metadata": {},
   "source": [
    "Calculation of ideal weight using Robinson's Formula."
   ]
  },
  {
   "cell_type": "code",
   "execution_count": null,
   "metadata": {},
   "outputs": [],
   "source": [
    "gen=input(\"enter your gender, m/f:\")\n",
    "height=input(\"enter your height in inches:\")\n",
    "h=float(height)\n",
    "print(\"Your height is:\",h)\n",
    "if gen==\"m\": #calculating ideal weight for males\n",
    "    if h>=60:\n",
    "        a=52+1.9*(h-60) #robinson formula for males\n",
    "        print(\"Your ideal weight is:\",a)\n",
    "    else:\n",
    "        print(\"Your ideal weight is 52\")\n",
    "elif gen==\"f\": #calculating ideal weight for females\n",
    "    if h>=60:\n",
    "        b=49+1.7*(h-60) #robinson formula for females\n",
    "        print(\"Your ideal weight is:\",b)\n",
    "    else:\n",
    "        print(\"Your ideal weight is 49\")\n",
    "else:\n",
    "    print(\"you have entered an invalid gender\")"
   ]
  }
 ],
 "metadata": {
  "language_info": {
   "name": "python"
  },
  "orig_nbformat": 4
 },
 "nbformat": 4,
 "nbformat_minor": 2
}
